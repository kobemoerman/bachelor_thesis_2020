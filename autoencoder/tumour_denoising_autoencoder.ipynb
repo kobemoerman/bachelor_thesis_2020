{
  "nbformat": 4,
  "nbformat_minor": 0,
  "metadata": {
    "colab": {
      "name": "tumour_denoising_autoencoder.ipynb",
      "provenance": []
    },
    "kernelspec": {
      "name": "python3",
      "display_name": "Python 3"
    },
    "accelerator": "GPU"
  },
  "cells": [
    {
      "cell_type": "markdown",
      "metadata": {
        "id": "dwkisqwd7XmE",
        "colab_type": "text"
      },
      "source": [
        "# Libraries."
      ]
    },
    {
      "cell_type": "code",
      "metadata": {
        "id": "9_A8k5Ww7T3i",
        "colab_type": "code",
        "colab": {}
      },
      "source": [
        "#python functionalities\n",
        "import os\n",
        "import pickle\n",
        "import numpy as np\n",
        "\n",
        "#display results\n",
        "import matplotlib.pyplot as plt\n",
        "from sklearn.metrics import roc_curve, auc\n",
        "\n",
        "#T-SNE\n",
        "import cv2\n",
        "from sklearn import manifold\n",
        "\n",
        "#model functionalities\n",
        "import tensorflow as tf\n",
        "from keras import regularizers\n",
        "from keras.models import Model\n",
        "from keras.layers import Input, Conv2D, Conv2DTranspose, MaxPooling2D, UpSampling2D, BatchNormalization, Reshape, Flatten, Dense, Dropout\n",
        "from keras.preprocessing.image import ImageDataGenerator"
      ],
      "execution_count": null,
      "outputs": []
    },
    {
      "cell_type": "markdown",
      "metadata": {
        "id": "M_SAz6K17iaW",
        "colab_type": "text"
      },
      "source": [
        "Import the NCIA dataset from Google Drive."
      ]
    },
    {
      "cell_type": "code",
      "metadata": {
        "id": "56xrXB1B7mMm",
        "colab_type": "code",
        "colab": {}
      },
      "source": [
        "dir_MCGILL = '/content/drive/My Drive/Bachelor Thesis/Model-Data/128/MCGILL'\n",
        "dir_MAASTRO = '/content/drive/My Drive/Bachelor Thesis/Model-Data/128/MAASTRO'\n",
        "\n",
        "# read the training data\n",
        "with open(dir_MCGILL + '/train_data.pxl', 'rb') as f:\n",
        "  train_data = np.array(pickle.load(f))\n",
        "with open(dir_MCGILL + '/train_label.pxl', 'rb') as f:\n",
        "  train_label = np.array(pickle.load(f))\n",
        "with open(dir_MCGILL + '/train_contour.pxl', 'rb') as f:\n",
        "  train_contour = np.array(pickle.load(f))\n",
        "\n",
        "# read the testing data\n",
        "with open(dir_MCGILL + '/test_data.pxl', 'rb') as f:\n",
        "  test_data = np.array(pickle.load(f))\n",
        "with open(dir_MCGILL + '/test_label.pxl', 'rb') as f:\n",
        "  test_label = np.array(pickle.load(f))\n",
        "with open(dir_MCGILL + '/test_contour.pxl', 'rb') as f:\n",
        "  test_contour = np.array(pickle.load(f))  "
      ],
      "execution_count": null,
      "outputs": []
    },
    {
      "cell_type": "markdown",
      "metadata": {
        "id": "wrnsqgb37sCi",
        "colab_type": "text"
      },
      "source": [
        "Prepare the data."
      ]
    },
    {
      "cell_type": "code",
      "metadata": {
        "id": "7MJRoi307tv6",
        "colab_type": "code",
        "colab": {}
      },
      "source": [
        "#separate labels according to the metastasis type\n",
        "def vectorize_labels(labels):\n",
        "  local, distant, death = [], [], []\n",
        "\n",
        "  for metastasis in labels:\n",
        "    local.append(metastasis[0])\n",
        "    distant.append(metastasis[1])\n",
        "    death.append(metastasis[2])\n",
        "\n",
        "  return np.asarray(local).astype('float32'), np.asarray(distant).astype('float32'), np.asarray(death).astype('float32')\n",
        "\n",
        "def add_tumour_noise(image, contour):\n",
        "  for img, cntr in zip(image, contour):\n",
        "    row, col = np.where(cntr == 0)\n",
        "    cntr[row, col] = -999.0\n",
        "\n",
        "    #generate noise\n",
        "    noise_fact = 0.4\n",
        "    noise_cntr = cntr + noise_fact * np.random.normal(loc=0.0, scale=1.0, size=cntr.shape)\n",
        "    row, col = np.where(noise_cntr > 0)\n",
        "    noise_cntr = np.clip(noise_cntr, 0., 1.)\n",
        "\n",
        "    noise_img = img + noise_fact * np.random.normal(loc=0.0, scale=1.0, size=img.shape)\n",
        "    img[row,col] = noise_img[row, col]\n",
        "    img = np.clip(img, 0., 1.)\n",
        "\n",
        "#normalize the data\n",
        "train_x = train_data.astype('float32') / 2000.\n",
        "test_x = test_data.astype('float32') / 2000.\n",
        "\n",
        "#reshape the data\n",
        "train_x = np.reshape(train_x, (len(train_x), 128, 128, 1))\n",
        "test_x  = np.reshape(test_x, (len(test_x), 128, 128, 1))\n",
        "\n",
        "#generate noise\n",
        "train_x_noise = np.copy(train_x)\n",
        "test_x_noise  = np.copy(test_x)\n",
        "add_tumour_noise(train_x_noise, train_contour)\n",
        "add_tumour_noise(test_x_noise, test_contour)\n",
        "\n",
        "#vectorize the labels\n",
        "train_local, train_distant, train_death = vectorize_labels(train_label)\n",
        "test_local, test_distant, test_death = vectorize_labels(test_label)\n",
        "\n",
        "#display data shape\n",
        "print(\"Input data shape\", train_x.shape)\n",
        "print(\"Input label shape\", train_local.shape)"
      ],
      "execution_count": null,
      "outputs": []
    },
    {
      "cell_type": "markdown",
      "metadata": {
        "id": "WEkLmbwC9J9H",
        "colab_type": "text"
      },
      "source": [
        "Visualize the noisy images."
      ]
    },
    {
      "cell_type": "code",
      "metadata": {
        "id": "Uo2bWqvb9NR_",
        "colab_type": "code",
        "colab": {}
      },
      "source": [
        "plt.figure(figsize=(20, 8))\n",
        "\n",
        "col = 5\n",
        "\n",
        "for i in range(0, col):\n",
        "  ax = plt.subplot(2, col, i+1)\n",
        "  plt.imshow(test_x[i].reshape(128, 128), cmap='gray')\n",
        "  ax.get_xaxis().set_visible(False)\n",
        "  ax.get_yaxis().set_visible(False)\n",
        "\n",
        "  ax = plt.subplot(2, col, i+col+1)\n",
        "  plt.imshow(test_x_noise[i].reshape(128, 128), cmap='gray')\n",
        "  ax.get_xaxis().set_visible(False)\n",
        "  ax.get_yaxis().set_visible(False)\n",
        "\n",
        "plt.show()"
      ],
      "execution_count": null,
      "outputs": []
    },
    {
      "cell_type": "markdown",
      "metadata": {
        "id": "RbTgX21E7zMs",
        "colab_type": "text"
      },
      "source": [
        "Encoder and Decoder."
      ]
    },
    {
      "cell_type": "code",
      "metadata": {
        "id": "fil5t-BR72b2",
        "colab_type": "code",
        "colab": {}
      },
      "source": [
        "def custom_conv2d(layer, filters, stride, name):\n",
        "  layer = Conv2D(filters, kernel_size=(3,3), strides=stride, activation='relu', padding='same', name=('encoder_conv_%s' % name))(layer)\n",
        "  layer = BatchNormalization(name=('encoder_bn_%s' % name))(layer)\n",
        "\n",
        "  return layer\n",
        "\n",
        "def custom_conv2d_transpose(layer, filters, stride, name):\n",
        "  layer = Conv2DTranspose(filters, kernel_size=(3,3), strides=stride, activation='relu', padding='same', name=('decoder_conv_%s' % name))(layer)\n",
        "  layer = BatchNormalization(name=('decoder_bn_%s' % name))(layer)\n",
        "\n",
        "  return layer\n",
        "\n",
        "def build_encoder_layers(layer, filters_per_layer):\n",
        "  for i, filters in enumerate(filters_per_layer):\n",
        "    layer = custom_conv2d(layer, filters, (1, 1), '1-1_%d' % i)\n",
        "    layer = custom_conv2d(layer, filters, (1, 1), '1-2_%d' % i)\n",
        "    layer = custom_conv2d(layer, filters, (2, 2), '2-1_%d' % i)\n",
        "\n",
        "  return layer\n",
        "\n",
        "def build_decoder_layers(layer, filters_per_layer):\n",
        "  for i, filters in enumerate(filters_per_layer[::-1]):\n",
        "    layer = custom_conv2d_transpose(layer, filters, (2, 2), '2-1_%d' % i)\n",
        "    layer = custom_conv2d_transpose(layer, filters, (1, 1), '1-2_%d' % i)\n",
        "    layer = custom_conv2d_transpose(layer, filters, (1, 1), '1-1_%d' % i)\n",
        "\n",
        "  output = Conv2D(1, (3, 3), activation='sigmoid', padding='same', name=('decoder_conv_output'))(layer)\n",
        "\n",
        "  return output"
      ],
      "execution_count": null,
      "outputs": []
    },
    {
      "cell_type": "markdown",
      "metadata": {
        "id": "XnY5GThu75Ke",
        "colab_type": "text"
      },
      "source": [
        "Learning parameters."
      ]
    },
    {
      "cell_type": "code",
      "metadata": {
        "id": "TCWNTCXw77Dj",
        "colab_type": "code",
        "colab": {}
      },
      "source": [
        "#hyper-parameters\n",
        "epochs_AE = 300\n",
        "epochs_FULL = 150\n",
        "batch_size = 64\n",
        "input_img  = Input(shape=(128, 128, 1))\n",
        "nb_filters = (32, 64, 128)\n",
        "\n",
        "#model layers\n",
        "l = 18"
      ],
      "execution_count": null,
      "outputs": []
    },
    {
      "cell_type": "markdown",
      "metadata": {
        "id": "2yxIhnWq8BPN",
        "colab_type": "text"
      },
      "source": [
        "Build the model."
      ]
    },
    {
      "cell_type": "code",
      "metadata": {
        "id": "3u31cotT8DVg",
        "colab_type": "code",
        "colab": {}
      },
      "source": [
        "encoded = build_encoder_layers(input_img, nb_filters)\n",
        "decoded = build_decoder_layers(encoded, nb_filters)\n",
        "\n",
        "ae = Model(input_img, decoded)\n",
        "ae.compile(loss='mean_squared_error', optimizer='rmsprop')\n",
        "ae.summary()"
      ],
      "execution_count": null,
      "outputs": []
    },
    {
      "cell_type": "markdown",
      "metadata": {
        "id": "9yhx5_vzPQmO",
        "colab_type": "text"
      },
      "source": [
        "Train the model."
      ]
    },
    {
      "cell_type": "code",
      "metadata": {
        "id": "4mTo5PYmPUlb",
        "colab_type": "code",
        "colab": {}
      },
      "source": [
        "hist = ae.fit(train_x_noise, train_x, \n",
        "              batch_size=batch_size,\n",
        "              epochs=epochs_AE,\n",
        "              verbose=2, \n",
        "              validation_data=(test_x_noise, test_x))"
      ],
      "execution_count": null,
      "outputs": []
    },
    {
      "cell_type": "markdown",
      "metadata": {
        "id": "dMmxLa7h8PE6",
        "colab_type": "text"
      },
      "source": [
        "Save the model."
      ]
    },
    {
      "cell_type": "code",
      "metadata": {
        "id": "TXXUKp1f8P_1",
        "colab_type": "code",
        "colab": {}
      },
      "source": [
        "ae.save('/content/drive/My Drive/Bachelor Thesis/autoencoder_tumour_denoising_300.h5')"
      ],
      "execution_count": null,
      "outputs": []
    },
    {
      "cell_type": "markdown",
      "metadata": {
        "id": "Yc9ATT9V8af2",
        "colab_type": "text"
      },
      "source": [
        "Autoencoder loss progression."
      ]
    },
    {
      "cell_type": "code",
      "metadata": {
        "id": "WC1jSJ258cdO",
        "colab_type": "code",
        "colab": {}
      },
      "source": [
        "loss = hist.history['loss']\n",
        "val_loss = hist.history['val_loss']\n",
        "\n",
        "epochs = range(epochs_AE)\n",
        "\n",
        "plt.figure()\n",
        "plt.plot(epochs, loss, 'g', label='Training loss')\n",
        "plt.plot(epochs, val_loss, 'b', label='Validation loss')\n",
        "plt.title('Training and validation loss')\n",
        "plt.legend()\n",
        "plt.show()"
      ],
      "execution_count": null,
      "outputs": []
    },
    {
      "cell_type": "markdown",
      "metadata": {
        "id": "j5mqDCVe8eyB",
        "colab_type": "text"
      },
      "source": [
        "Autoencoder Image Reconstruction."
      ]
    },
    {
      "cell_type": "code",
      "metadata": {
        "id": "XcxxYy4T8hwS",
        "colab_type": "code",
        "colab": {}
      },
      "source": [
        "ae = tf.keras.models.load_model('/content/drive/My Drive/Bachelor Thesis/autoencoder_tumour_denoising_300.h5')\n",
        "\n",
        "decoded_imgs = ae.predict(test_x_noise)\n",
        "\n",
        "# number of scans to display\n",
        "scans = 6\n",
        "\n",
        "plt.figure(figsize=(20, 10))\n",
        "for i in range(scans):\n",
        "    # display corrupted\n",
        "    ax = plt.subplot(3, scans, i + 1)\n",
        "    plt.imshow(test_x[i].reshape(128, 128), cmap='gray')\n",
        "    ax.get_xaxis().set_visible(False)\n",
        "    ax.get_yaxis().set_visible(False)\n",
        "\n",
        "    #display original\n",
        "    ax = plt.subplot(3, scans, i + scans + 1)\n",
        "    plt.imshow(test_x_noise[i].reshape(128, 128), cmap='gray')\n",
        "    ax.get_xaxis().set_visible(False)\n",
        "    ax.get_yaxis().set_visible(False)\n",
        "\n",
        "    # display reconstruction\n",
        "    ax = plt.subplot(3, scans, i + 2*scans + 1)\n",
        "    plt.imshow(decoded_imgs[i].reshape(128, 128), cmap='gray')\n",
        "    ax.get_xaxis().set_visible(False)\n",
        "    ax.get_yaxis().set_visible(False)\n",
        "\n",
        "plt.show()"
      ],
      "execution_count": null,
      "outputs": []
    },
    {
      "cell_type": "markdown",
      "metadata": {
        "id": "JBEOF3kyqWpA",
        "colab_type": "text"
      },
      "source": [
        "Define the fully connected layers that will be stacked up with the encoder function."
      ]
    },
    {
      "cell_type": "code",
      "metadata": {
        "id": "8HJZFWb1qa3p",
        "colab_type": "code",
        "colab": {}
      },
      "source": [
        "def fc(enco):\n",
        "  flat = Flatten()(enco)\n",
        "  drop = Dropout(0.25)(flat)\n",
        "  den1 = Dense(512, activation='relu', kernel_regularizer=regularizers.l2(0.001))(drop)\n",
        "  drop = Dropout(0.5)(den1)\n",
        "  out  = Dense(1, activation='sigmoid')(drop)\n",
        "  \n",
        "  return out\n",
        "\n",
        "#create augmented image generator\n",
        "datagen = ImageDataGenerator(rotation_range=45,\n",
        "                             width_shift_range=0.2,\n",
        "                             height_shift_range=0.2,\n",
        "                             shear_range=0.2,\n",
        "                             zoom_range=0.2,\n",
        "                             horizontal_flip=True,\n",
        "                             fill_mode='nearest')\n",
        "\n",
        "#compute quantities required for featurewise normalization\n",
        "datagen.fit(train_x_noise)"
      ],
      "execution_count": null,
      "outputs": []
    },
    {
      "cell_type": "markdown",
      "metadata": {
        "id": "j_L6-x-0q8ad",
        "colab_type": "text"
      },
      "source": [
        "Train the model."
      ]
    },
    {
      "cell_type": "code",
      "metadata": {
        "id": "_P0FjOk8q9uz",
        "colab_type": "code",
        "colab": {}
      },
      "source": [
        "model = tf.keras.models.load_model('/content/drive/My Drive/Bachelor Thesis/autoencoder_tumour_denoising_300.h5')\n",
        "\n",
        "def create_model():\n",
        "  #create the encoder model\n",
        "  encoder = build_encoder_layers(input_img, nb_filters)\n",
        "  full_model = Model(input_img, fc(encoder))\n",
        "\n",
        "  #set layer weights\n",
        "  for l1, l2 in zip(full_model.layers[:l], model.layers[:l]):\n",
        "    l1.set_weights(l2.get_weights())\n",
        "    l1.trainable = False\n",
        "\n",
        "  #compile the model\n",
        "  full_model.compile(loss='binary_crossentropy', optimizer='adam')\n",
        "\n",
        "  return full_model"
      ],
      "execution_count": null,
      "outputs": []
    },
    {
      "cell_type": "markdown",
      "metadata": {
        "id": "MlmEL-ijof_U",
        "colab_type": "text"
      },
      "source": [
        "Train the model."
      ]
    },
    {
      "cell_type": "code",
      "metadata": {
        "id": "Q56AZOXCoe6X",
        "colab_type": "code",
        "colab": {}
      },
      "source": [
        "tmp_model = create_model()\n",
        "tmp_model.fit(datagen.flow(train_x_noise, train_death, batch_size=32), steps_per_epoch=len(train_x) / 32, epochs=100, verbose=0, validation_data=(test_x_noise, test_death))\n",
        "pred = tmp_model.predict(test_x_noise)\n",
        "fpr, tpr, _ = roc_curve(test_death, pred)\n",
        "roc_auc = auc(fpr, tpr)\n",
        "print(roc_auc)\n",
        "LR_fpr = fpr\n",
        "LR_tpr = tpr\n",
        "LR_auc = roc_auc"
      ],
      "execution_count": null,
      "outputs": []
    },
    {
      "cell_type": "markdown",
      "metadata": {
        "id": "D3yQKlvbIoL3",
        "colab_type": "text"
      },
      "source": [
        "Classification"
      ]
    },
    {
      "cell_type": "code",
      "metadata": {
        "id": "RDKTZVmAKWFP",
        "colab_type": "code",
        "colab": {
          "base_uri": "https://localhost:8080/",
          "height": 319
        },
        "outputId": "2307506f-1744-4cda-e7d2-2aa87dd02b32"
      },
      "source": [
        "fig = plt.figure(figsize=(8,6))\n",
        "\n",
        "plt.figure()\n",
        "#plt.plot(LR_fpr, LR_tpr, 'blue', label='Local recurrence, AUC={:.2f}'.format(LR_auc))\n",
        "#plt.plot(DM_fpr, DM_tpr, 'green', label='Distant metastasis, AUC={:.2f}'.format(DM_auc))\n",
        "plt.plot(OS_fpr, OS_tpr, 'red', label='Death, AUC={:.2f}'.format(OS_auc))\n",
        "    \n",
        "plt.plot([0,1], [0,1], color='orange', linestyle='--')\n",
        "\n",
        "plt.xticks(np.arange(0.0, 1.1, step=0.1))\n",
        "plt.xlabel(\"Flase Positive Rate\", fontsize=15)\n",
        "\n",
        "plt.yticks(np.arange(0.0, 1.1, step=0.1))\n",
        "plt.ylabel(\"True Positive Rate\", fontsize=15)\n",
        "\n",
        "plt.title('ROC Curve Analysis', fontweight='bold', fontsize=15)\n",
        "plt.legend(prop={'size':13}, loc='lower right')\n",
        "\n",
        "plt.show()"
      ],
      "execution_count": null,
      "outputs": [
        {
          "output_type": "display_data",
          "data": {
            "text/plain": [
              "<Figure size 576x432 with 0 Axes>"
            ]
          },
          "metadata": {
            "tags": []
          }
        },
        {
          "output_type": "display_data",
          "data": {
            "image/png": "[encoded data removed]",
            "text/plain": [
              "<Figure size 432x288 with 1 Axes>"
            ]
          },
          "metadata": {
            "tags": [],
            "needs_background": "light"
          }
        }
      ]
    }
  ]
}